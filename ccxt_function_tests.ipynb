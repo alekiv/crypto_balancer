{
 "cells": [
  {
   "cell_type": "code",
   "execution_count": 9,
   "metadata": {},
   "outputs": [],
   "source": [
    "import configparser\n",
    "from crypto_balancer.ccxt_exchange import CCXTExchange, exchanges\n",
    "\n",
    "config = configparser.ConfigParser()\n",
    "config.read('config.ini')\n",
    "exchange = 'binanceus'\n",
    "config = config[exchange]\n",
    "exchange = CCXTExchange(\"binanceus\",\n",
    "                        config['api_key'],\n",
    "                        config['api_secret'],\n",
    "                        do_cancel_orders=False)\n"
   ]
  },
  {
   "cell_type": "code",
   "execution_count": 10,
   "metadata": {},
   "outputs": [
    {
     "data": {
      "text/plain": [
       "{'ADA/USDT': {'amount': {'min': 0.1, 'max': 9000000.0},\n",
       "  'price': {'min': 1e-05, 'max': 1000.0},\n",
       "  'cost': {'min': 10.0, 'max': None},\n",
       "  'leverage': {'min': None, 'max': None},\n",
       "  'market': {'min': 0.0, 'max': 515818.67760417}}}"
      ]
     },
     "execution_count": 10,
     "metadata": {},
     "output_type": "execute_result"
    }
   ],
   "source": [
    "symbol = 'BTC/USD'\n",
    "type = 'limit'\n",
    "side = 'buy'\n",
    "quote = 92.05\n",
    "price = 1\n",
    "amount = 10\n",
    "\n",
    "#exchange.exch.calculate_fee(symbol=symbol, type=type, side=side,\n",
    "#                      amount=amount, price=price)\n",
    "#exchange.exch.fetch_open_orders(symbol=\"BTC/USDT\")\n",
    "exchange.get_limit(\"ADA/USDT\")\n"
   ]
  },
  {
   "cell_type": "code",
   "execution_count": null,
   "metadata": {},
   "outputs": [],
   "source": []
  }
 ],
 "metadata": {
  "kernelspec": {
   "display_name": "venv",
   "language": "python",
   "name": "python3"
  },
  "language_info": {
   "codemirror_mode": {
    "name": "ipython",
    "version": 3
   },
   "file_extension": ".py",
   "mimetype": "text/x-python",
   "name": "python",
   "nbconvert_exporter": "python",
   "pygments_lexer": "ipython3",
   "version": "3.11.1"
  },
  "orig_nbformat": 4,
  "vscode": {
   "interpreter": {
    "hash": "9bd09068369b764ca92bea554782e605c494271eb50554a990a043fa46b926eb"
   }
  }
 },
 "nbformat": 4,
 "nbformat_minor": 2
}
