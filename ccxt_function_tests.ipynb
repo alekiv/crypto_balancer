{
 "cells": [
  {
   "cell_type": "code",
   "execution_count": 5,
   "metadata": {},
   "outputs": [],
   "source": [
    "import configparser\n",
    "from crypto_balancer.ccxt_exchange import CCXTExchange, exchanges\n",
    "import ccxt\n",
    "config = configparser.ConfigParser()\n",
    "config.read('config.ini')\n",
    "exchange = 'binanceus'\n",
    "config = config[exchange]\n",
    "exchange = CCXTExchange(\"binanceus\",\n",
    "                        config['api_key'],\n",
    "                        config['api_secret'],\n",
    "                        do_cancel_orders=False)\n",
    "\n",
    "cex = getattr(ccxt, 'bybit')({'nonce': ccxt.Exchange.milliseconds})\n"
   ]
  },
  {
   "cell_type": "code",
   "execution_count": 27,
   "metadata": {},
   "outputs": [
    {
     "data": {
      "text/plain": [
       "{'symbol': 'BIT/USDT',\n",
       " 'timestamp': 1676923041604,\n",
       " 'datetime': '2023-02-20T19:57:21.604Z',\n",
       " 'high': 0.6454,\n",
       " 'low': 0.6235,\n",
       " 'bid': 0.6353,\n",
       " 'bidVolume': None,\n",
       " 'ask': 0.6354,\n",
       " 'askVolume': None,\n",
       " 'vwap': 0.6338178964371389,\n",
       " 'open': 0.6279,\n",
       " 'close': 0.6353,\n",
       " 'last': 0.6353,\n",
       " 'previousClose': None,\n",
       " 'change': 0.0074,\n",
       " 'percentage': 1.178531613314222,\n",
       " 'average': 0.6316,\n",
       " 'baseVolume': 14238573.02,\n",
       " 'quoteVolume': 9024662.399803,\n",
       " 'info': {'t': '1676923041604',\n",
       "  's': 'BITUSDT',\n",
       "  'bp': '0.6353',\n",
       "  'ap': '0.6354',\n",
       "  'lp': '0.6353',\n",
       "  'o': '0.6279',\n",
       "  'h': '0.6454',\n",
       "  'l': '0.6235',\n",
       "  'v': '14238573.02',\n",
       "  'qv': '9024662.399803'}}"
      ]
     },
     "execution_count": 27,
     "metadata": {},
     "output_type": "execute_result"
    }
   ],
   "source": [
    "start = \"REP\"\n",
    "end = \"USDT\"\n",
    "#exchange.get_smart_route(start, end)\n",
    "#exchange.exch.market('USDT/USD')\n",
    "exchange.get_portfolio_total('USDT')\n",
    "#exchange.exch.fetch_tickers()\n",
    "cex = ccxt.bybit()\n",
    "exchange.exch.options['defaultType'] = 'spot'\n",
    "cex.fetchTicker('BIT/USDT')\n",
    "\n",
    "\n",
    "\n"
   ]
  },
  {
   "cell_type": "code",
   "execution_count": null,
   "metadata": {},
   "outputs": [],
   "source": [
    "\"\"\" symbol = 'BTC/USD'\n",
    "type = 'limit'\n",
    "side = 'buy'\n",
    "quote = 92.05\n",
    "price = 1\n",
    "amount = 10\n",
    "\n",
    "#exchange.exch.exch.exch.calculate_fee(symbol=symbol, type=type, side=side,\n",
    "#                      amount=amount, price=price)\n",
    "#exchange.exch.exch.exch.fetch_open_orders(symbol=\"BTC/USDT\")\n",
    "#exchange.exch.get_limit(\"ADA/USDT\") \"\"\"\n",
    "\n",
    "current = {'USD' : 80, 'USDT' : 20}\n",
    "targets = {'BTC' : 23, 'USDT' : 5, 'ADA' : 10, 'GALA' : 5}\n"
   ]
  },
  {
   "cell_type": "code",
   "execution_count": null,
   "metadata": {},
   "outputs": [],
   "source": [
    "\n"
   ]
  },
  {
   "cell_type": "code",
   "execution_count": null,
   "metadata": {},
   "outputs": [
    {
     "ename": "NameError",
     "evalue": "name 'balance' is not defined",
     "output_type": "error",
     "traceback": [
      "\u001b[0;31m---------------------------------------------------------------------------\u001b[0m",
      "\u001b[0;31mNameError\u001b[0m                                 Traceback (most recent call last)",
      "Cell \u001b[0;32mIn[4], line 1\u001b[0m\n\u001b[0;32m----> 1\u001b[0m codes \u001b[39m=\u001b[39m [code \u001b[39mfor\u001b[39;00m code, amount \u001b[39min\u001b[39;00m balance[\u001b[39m'\u001b[39m\u001b[39mtotal\u001b[39m\u001b[39m'\u001b[39m]\u001b[39m.\u001b[39mitems()]\n\u001b[1;32m      2\u001b[0m exchange\u001b[39m.\u001b[39mget_matched_pairs([\u001b[39m\"\u001b[39m\u001b[39mBTC\u001b[39m\u001b[39m\"\u001b[39m, \u001b[39m\"\u001b[39m\u001b[39mUSDT\u001b[39m\u001b[39m\"\u001b[39m])\n",
      "\u001b[0;31mNameError\u001b[0m: name 'balance' is not defined"
     ]
    }
   ],
   "source": [
    "codes = [code for code, amount in balance['total'].items()]\n",
    "exchange.get_matched_pairs([\"BTC\", \"USDT\"])\n",
    "    \n",
    "\n"
   ]
  }
 ],
 "metadata": {
  "kernelspec": {
   "display_name": "venv",
   "language": "python",
   "name": "python3"
  },
  "language_info": {
   "codemirror_mode": {
    "name": "ipython",
    "version": 3
   },
   "file_extension": ".py",
   "mimetype": "text/x-python",
   "name": "python",
   "nbconvert_exporter": "python",
   "pygments_lexer": "ipython3",
   "version": "3.11.1"
  },
  "orig_nbformat": 4,
  "vscode": {
   "interpreter": {
    "hash": "9bd09068369b764ca92bea554782e605c494271eb50554a990a043fa46b926eb"
   }
  }
 },
 "nbformat": 4,
 "nbformat_minor": 2
}
