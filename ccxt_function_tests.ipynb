{
 "cells": [
  {
   "cell_type": "code",
   "execution_count": 1,
   "metadata": {},
   "outputs": [],
   "source": [
    "import configparser\n",
    "from crypto_balancer.ccxt_exchange import CCXTExchange, exchanges\n",
    "import ccxt\n",
    "config = configparser.ConfigParser()\n",
    "config.read('config.ini')\n",
    "exchange = 'binanceus'\n",
    "config = config[exchange]\n",
    "exchange = CCXTExchange(\"binanceus\",\n",
    "                        config['api_key'],\n",
    "                        config['api_secret'],\n",
    "                        do_cancel_orders=False)\n",
    "\n",
    "cex = getattr(ccxt, 'bybit')({'nonce': ccxt.Exchange.milliseconds})\n"
   ]
  },
  {
   "cell_type": "code",
   "execution_count": 18,
   "metadata": {},
   "outputs": [
    {
     "name": "stdout",
     "output_type": "stream",
     "text": [
      "Amount not tradeable:  0.03551163850893573\n"
     ]
    },
    {
     "data": {
      "text/plain": [
       "[('USD', -0.7218157035388936),\n",
       " ('OCEAN', -0.006815723663332051),\n",
       " ('ALGO', -0.006116939448024413),\n",
       " ('ZEN', 0.01999500172946382),\n",
       " ('USDT', 0.05519468863083177),\n",
       " ('OP', 0.06566367085441682),\n",
       " ('ADA', 0.06998497514847545),\n",
       " ('BTC', 0.09945719687299413),\n",
       " ('ONE', 0.09999916552040947),\n",
       " ('AVAX', 0.13997371088527413),\n",
       " ('ETH', 0.21999159551732025)]"
      ]
     },
     "execution_count": 18,
     "metadata": {},
     "output_type": "execute_result"
    }
   ],
   "source": [
    "targets = {'BTC': 10, 'USDT': 15, 'USD': 13, 'OP': 7,\n",
    "           'AVAX': 14, 'ETH': 22, 'ADA': 7, 'ZEN': 2, 'ONE': 10}\n",
    "quote_currency = 'USDT'\n",
    "mode = 'mid'\n",
    "portfolio = exchange.get_portfolio_total(quote_currency, mode)\n",
    "total_balance = portfolio[\"total\"]\n",
    "codes = portfolio[\"codes\"]\n",
    "weights = {code: value / total_balance for code,\n",
    "           value in codes.items() if value != 0.0}\n",
    "weights_with_direction = [(code, targets[code] / 100 - value) if code in targets.keys()\n",
    "                          else (code, 0 - value) for code, value in weights.items()]\n",
    "\n",
    "failed_sum = 0\n",
    "pass_sum = 0\n",
    "all_tradeable_amounts = {}\n",
    "for code, value in weights_with_direction:\n",
    "    does_pass = exchange.check_limits(\n",
    "        code, quote_currency, abs(value), mode, total_balance)\n",
    "    if does_pass:\n",
    "        all_tradeable_amounts.update({code: value})\n",
    "    else:\n",
    "        failed_sum += weights[code]\n",
    "print('Amount not tradeable: ',failed_sum)\n",
    "#print(sum(value for _, value in all_tradeable_amounts.items()))\n",
    "sorted(all_tradeable_amounts.items(), key=lambda x:x[1])\n",
    "\n",
    "# Build Inital Routes\n"
   ]
  },
  {
   "cell_type": "code",
   "execution_count": null,
   "metadata": {},
   "outputs": [],
   "source": [
    "\"\"\" symbol = 'BTC/USD'\n",
    "type = 'limit'\n",
    "side = 'buy'\n",
    "quote = 92.05\n",
    "price = 1\n",
    "amount = 10\n",
    "\n",
    "#exchange.exch.exch.exch.calculate_fee(symbol=symbol, type=type, side=side,\n",
    "#                      amount=amount, price=price)\n",
    "#exchange.exch.exch.exch.fetch_open_orders(symbol=\"BTC/USDT\")\n",
    "#exchange.exch.get_limit(\"ADA/USDT\") \"\"\"\n",
    "\n",
    "current = {'USD': 80, 'USDT': 20}\n",
    "targets = {'BTC': 23, 'USDT': 5, 'ADA': 10, 'GALA': 5}\n"
   ]
  },
  {
   "cell_type": "code",
   "execution_count": null,
   "metadata": {},
   "outputs": [],
   "source": []
  },
  {
   "cell_type": "code",
   "execution_count": null,
   "metadata": {},
   "outputs": [
    {
     "ename": "NameError",
     "evalue": "name 'balance' is not defined",
     "output_type": "error",
     "traceback": [
      "\u001b[0;31m---------------------------------------------------------------------------\u001b[0m",
      "\u001b[0;31mNameError\u001b[0m                                 Traceback (most recent call last)",
      "Cell \u001b[0;32mIn[4], line 1\u001b[0m\n\u001b[0;32m----> 1\u001b[0m codes \u001b[39m=\u001b[39m [code \u001b[39mfor\u001b[39;00m code, amount \u001b[39min\u001b[39;00m balance[\u001b[39m'\u001b[39m\u001b[39mtotal\u001b[39m\u001b[39m'\u001b[39m]\u001b[39m.\u001b[39mitems()]\n\u001b[1;32m      2\u001b[0m exchange\u001b[39m.\u001b[39mget_matched_pairs([\u001b[39m\"\u001b[39m\u001b[39mBTC\u001b[39m\u001b[39m\"\u001b[39m, \u001b[39m\"\u001b[39m\u001b[39mUSDT\u001b[39m\u001b[39m\"\u001b[39m])\n",
      "\u001b[0;31mNameError\u001b[0m: name 'balance' is not defined"
     ]
    }
   ],
   "source": [
    "codes = [code for code, amount in balance['total'].items()]\n",
    "exchange.get_matched_pairs([\"BTC\", \"USDT\"])\n"
   ]
  }
 ],
 "metadata": {
  "kernelspec": {
   "display_name": "venv",
   "language": "python",
   "name": "python3"
  },
  "language_info": {
   "codemirror_mode": {
    "name": "ipython",
    "version": 3
   },
   "file_extension": ".py",
   "mimetype": "text/x-python",
   "name": "python",
   "nbconvert_exporter": "python",
   "pygments_lexer": "ipython3",
   "version": "3.11.1"
  },
  "orig_nbformat": 4,
  "vscode": {
   "interpreter": {
    "hash": "9bd09068369b764ca92bea554782e605c494271eb50554a990a043fa46b926eb"
   }
  }
 },
 "nbformat": 4,
 "nbformat_minor": 2
}
